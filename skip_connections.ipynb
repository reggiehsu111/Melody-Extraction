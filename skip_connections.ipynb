{
 "cells": [
  {
   "cell_type": "code",
   "execution_count": 3,
   "metadata": {},
   "outputs": [
    {
     "name": "stderr",
     "output_type": "stream",
     "text": [
      "/Users/hsureggie/coding/python/lib/python3.6/site-packages/h5py/__init__.py:36: FutureWarning: Conversion of the second argument of issubdtype from `float` to `np.floating` is deprecated. In future, it will be treated as `np.float64 == np.dtype(float).type`.\n",
      "  from ._conv import register_converters as _register_converters\n"
     ]
    }
   ],
   "source": [
    "import numpy as np\n",
    "import pandas as pd\n",
    "import matplotlib.pyplot as plt\n",
    "import tensorflow as tf"
   ]
  },
  {
   "cell_type": "code",
   "execution_count": 12,
   "metadata": {},
   "outputs": [],
   "source": [
    "def load_mnist():\n",
    "    data_dir = os.path.join(\"./data-1\", \"mnist\")\n",
    "    # data_dir=\"/home/satwik/Desktop/swaayatt_satwik/gan_test_Code/data /mnist\"\n",
    "\n",
    "    fd = open(os.path.join(data_dir,'train-images-idx3-ubyte'))\n",
    "    loaded = np.fromfile(file=fd,dtype=np.uint8)\n",
    "    trX = loaded[16:].reshape((60000,28,28,1)).astype(np.float)\n",
    "\n",
    "    fd = open(os.path.join(data_dir,'train-labels-idx1-ubyte'))\n",
    "    loaded = np.fromfile(file=fd,dtype=np.uint8)\n",
    "    trY = loaded[8:].reshape((60000)).astype(np.float)\n",
    "\n",
    "    fd = open(os.path.join(data_dir,'t10k-images-idx3-ubyte'))\n",
    "    loaded = np.fromfile(file=fd,dtype=np.uint8)\n",
    "    teX = loaded[16:].reshape((10000,28,28,1)).astype(np.float)\n",
    "\n",
    "    fd = open(os.path.join(data_dir,'t10k-labels-idx1-ubyte'))\n",
    "    loaded = np.fromfile(file=fd,dtype=np.uint8)\n",
    "    teY = loaded[8:].reshape((10000)).astype(np.float)\n",
    "\n",
    "    trY = np.asarray(trY)\n",
    "    teY = np.asarray(teY)\n",
    "\n",
    "    X = np.concatenate((trX, teX), axis=0)\n",
    "    y = np.concatenate((trY, teY), axis=0).astype(np.int)\n",
    "\n",
    "    seed = 547\n",
    "    np.random.seed(seed)\n",
    "    np.random.shuffle(X)\n",
    "    np.random.seed(seed)\n",
    "    np.random.shuffle(y)\n",
    "\n",
    "    y_vec = np.zeros((len(y), 10), dtype=np.float)\n",
    "    for i, label in enumerate(y):\n",
    "        y_vec[i,y[i]] = 1.0\n",
    "\n",
    "    return (X/255.),y_vec"
   ]
  },
  {
   "cell_type": "code",
   "execution_count": 4,
   "metadata": {},
   "outputs": [],
   "source": [
    "batch_size = 100\n",
    "n_epochs = 10\n",
    "learning_rate = 0.01\n",
    "n_examples = 10\n",
    "filters=[1, 8, 16, 32]#no. of filters in each layer(first element= number of channels in input image)\n",
    "filter_sizes=[3, 3, 3]"
   ]
  },
  {
   "cell_type": "code",
   "execution_count": 5,
   "metadata": {},
   "outputs": [],
   "source": [
    "def lrelu(x, leak=0.2, name=\"lrelu\"):#function for  relu\n",
    "        with tf.variable_scope(name):\n",
    "            f1 = 0.5 * (1 + leak)\n",
    "            f2 = 0.5 * (1 - leak)\n",
    "        return f1 * x + f2 * abs(x)"
   ]
  },
  {
   "cell_type": "code",
   "execution_count": 6,
   "metadata": {},
   "outputs": [],
   "source": [
    "def corrupt(x):#function for corrupting the input\n",
    "    return tf.multiply(x, tf.cast(tf.random_uniform(shape=tf.shape(x),minval=0,maxval=2,dtype=tf.int32), tf.float32))\n"
   ]
  },
  {
   "cell_type": "code",
   "execution_count": 10,
   "metadata": {},
   "outputs": [],
   "source": [
    "def autoencoder(input_shape=[batch_size, 28,28,1],n_filters=filters,filter_sizes=filter_sizes,corruption=False):\n",
    "    x = tf.placeholder(tf.float32, input_shape, name='x')\n",
    "    # x_tensor=tf.reshape(x,[100,32,32,n_filters[0]])#reshaped input\n",
    "    current_input=x\n",
    "    \n",
    "    \n",
    "    #corrupting the image\n",
    "    if corruption:\n",
    "        p = corrupt(current_input)\n",
    "        current_input=p\n",
    "\n",
    "    encoder = []#list for holding weights\n",
    "\n",
    "    shapes = []#list for holding shapes of output layers\n",
    "\n",
    "    outputs = []\n",
    "\n",
    "    #encoding\n",
    "    \n",
    "    #n_output = 8,16,32, layer_i = 1,2,3\n",
    "\n",
    "    for layer_i, n_output in enumerate(n_filters[1:]):\n",
    "        # channel num of the previous output\n",
    "        n_input = current_input.get_shape().as_list()[3]\n",
    "        print(\"n input: \",n_input)\n",
    "        shapes.append(current_input.get_shape().as_list())\n",
    "\n",
    "        W = tf.Variable(tf.random_uniform([filter_sizes[layer_i],filter_sizes[layer_i],n_input, n_output],-1.0 / math.sqrt(n_input),1.0 / math.sqrt(n_input)))#creating a variable\n",
    "\n",
    "        b = tf.Variable(tf.zeros([n_output]))#creating variable\n",
    "\n",
    "        encoder.append(W)\n",
    "\n",
    "        output = lrelu(tf.add(tf.nn.conv2d(current_input, W, strides=[1, 2, 2, 1], padding='SAME'), b))\n",
    "\n",
    "        outputs.append(output)\n",
    "\n",
    "        current_input = output\n",
    "    #skip connections and decoding\n",
    "\n",
    "    B = tf.Variable(tf.zeros([n_output]))\n",
    "\n",
    "    n_input = current_input.get_shape().as_list()[3]\n",
    "\n",
    "    b_= tf.Variable(tf.zeros([n_output]))\n",
    "\n",
    "    t=current_input.get_shape().as_list()\n",
    "    \n",
    "    w= tf.Variable(tf.random_uniform((t),-1.0 / math.sqrt(n_input),1.0 / math.sqrt(n_input)))\n",
    "    \n",
    "    outputs[-1] = tf.multiply(tf.add(outputs[-1],B),lrelu(tf.add(tf.multiply(current_input,w),b_)))\n",
    "    \n",
    "    current_input=outputs[-1]\n",
    "    \n",
    "    z = current_input\n",
    "\n",
    "    encoder.reverse()\n",
    "\n",
    "    shapes.reverse()\n",
    "\n",
    "    outputs.reverse()\n",
    "    \n",
    "    for layer_i, shape in enumerate(shapes):\n",
    "\n",
    "        W = encoder[layer_i]\n",
    "        \n",
    "        n_input = current_input.get_shape().as_list()[3]\n",
    "        \n",
    "        b = tf.Variable(tf.zeros([W.get_shape().as_list()[2]]))\n",
    "        \n",
    "        if (layer_i < len(filter_sizes)-1):\n",
    "            \n",
    "            B = tf.Variable(tf.zeros(filters[len(filter_sizes)-layer_i-1]))\n",
    "            \n",
    "            b_= tf.Variable(tf.zeros(filters[len(filter_sizes)-layer_i-1]))\n",
    "            \n",
    "            w= tf.Variable(tf.random_uniform(shape=outputs[layer_i+1].get_shape().as_list(),minval=-1.0 / math.sqrt(n_input),maxval=1.0 / math.sqrt(n_input)))\n",
    "            \n",
    "            k = tf.multiply(tf.add(outputs[layer_i+1],B),lrelu(tf.add(tf.multiply(outputs[layer_i+1],w),b_)))\n",
    "            \n",
    "            output=lrelu(tf.add(tf.nn.conv2d_transpose(outputs[layer_i],W,tf.stack([tf.shape(x)[0], shape[1], shape[2], shape[3]]),strides=[1, 2, 2, 1], padding='SAME'), b))\n",
    "            output=tf.add(k,output)\n",
    "        else:\n",
    "\n",
    "            output=lrelu(tf.add(tf.nn.conv2d_transpose(outputs[layer_i],W,tf.stack([tf.shape(x)[0], shape[1], shape[2], shape[3]]),strides=[1, 2, 2, 1], padding='SAME'), b))\n",
    "\n",
    "        current_input = output\n",
    "\n",
    "    y = current_input\n",
    "\n",
    "    cost = tf.reduce_mean(tf.reduce_sum(tf.square(tf.reshape(y - x,[batch_size,-1])),axis=1))#MSE\n",
    "\n",
    "    return {'x': x, 'z': z, 'y': y, 'cost': cost,'p':p}"
   ]
  },
  {
   "cell_type": "code",
   "execution_count": 13,
   "metadata": {},
   "outputs": [
    {
     "ename": "NameError",
     "evalue": "name 'os' is not defined",
     "output_type": "error",
     "traceback": [
      "\u001b[0;31m---------------------------------------------------------------------------\u001b[0m",
      "\u001b[0;31mNameError\u001b[0m                                 Traceback (most recent call last)",
      "\u001b[0;32m<ipython-input-13-79b97022857b>\u001b[0m in \u001b[0;36m<module>\u001b[0;34m()\u001b[0m\n\u001b[0;32m----> 1\u001b[0;31m \u001b[0mtrax\u001b[0m\u001b[0;34m,\u001b[0m\u001b[0mtray\u001b[0m\u001b[0;34m=\u001b[0m\u001b[0mload_mnist\u001b[0m\u001b[0;34m(\u001b[0m\u001b[0;34m)\u001b[0m\u001b[0;34m\u001b[0m\u001b[0m\n\u001b[0m\u001b[1;32m      2\u001b[0m \u001b[0mtrax\u001b[0m\u001b[0;34m=\u001b[0m\u001b[0mtrax\u001b[0m\u001b[0;34m[\u001b[0m\u001b[0;36m500\u001b[0m\u001b[0;34m:\u001b[0m\u001b[0;34m]\u001b[0m\u001b[0;34m\u001b[0m\u001b[0m\n\u001b[1;32m      3\u001b[0m \u001b[0mtray\u001b[0m\u001b[0;34m=\u001b[0m\u001b[0mtray\u001b[0m\u001b[0;34m[\u001b[0m\u001b[0;36m500\u001b[0m\u001b[0;34m:\u001b[0m\u001b[0;34m]\u001b[0m\u001b[0;34m\u001b[0m\u001b[0m\n\u001b[1;32m      4\u001b[0m \u001b[0mae\u001b[0m \u001b[0;34m=\u001b[0m \u001b[0mautoencoder\u001b[0m\u001b[0;34m(\u001b[0m\u001b[0mcorruption\u001b[0m\u001b[0;34m=\u001b[0m\u001b[0;32mFalse\u001b[0m\u001b[0;34m)\u001b[0m\u001b[0;34m\u001b[0m\u001b[0m\n\u001b[1;32m      5\u001b[0m \u001b[0moptimizer\u001b[0m \u001b[0;34m=\u001b[0m \u001b[0mtf\u001b[0m\u001b[0;34m.\u001b[0m\u001b[0mtrain\u001b[0m\u001b[0;34m.\u001b[0m\u001b[0mAdamOptimizer\u001b[0m\u001b[0;34m(\u001b[0m\u001b[0mlearning_rate\u001b[0m\u001b[0;34m)\u001b[0m\u001b[0;34m.\u001b[0m\u001b[0mminimize\u001b[0m\u001b[0;34m(\u001b[0m\u001b[0mae\u001b[0m\u001b[0;34m[\u001b[0m\u001b[0;34m'cost'\u001b[0m\u001b[0;34m]\u001b[0m\u001b[0;34m)\u001b[0m\u001b[0;34m\u001b[0m\u001b[0m\n",
      "\u001b[0;32m<ipython-input-12-bd108c287f31>\u001b[0m in \u001b[0;36mload_mnist\u001b[0;34m()\u001b[0m\n\u001b[1;32m      1\u001b[0m \u001b[0;32mdef\u001b[0m \u001b[0mload_mnist\u001b[0m\u001b[0;34m(\u001b[0m\u001b[0;34m)\u001b[0m\u001b[0;34m:\u001b[0m\u001b[0;34m\u001b[0m\u001b[0m\n\u001b[0;32m----> 2\u001b[0;31m     \u001b[0mdata_dir\u001b[0m \u001b[0;34m=\u001b[0m \u001b[0mos\u001b[0m\u001b[0;34m.\u001b[0m\u001b[0mpath\u001b[0m\u001b[0;34m.\u001b[0m\u001b[0mjoin\u001b[0m\u001b[0;34m(\u001b[0m\u001b[0;34m\"./data-1\"\u001b[0m\u001b[0;34m,\u001b[0m \u001b[0;34m\"mnist\"\u001b[0m\u001b[0;34m)\u001b[0m\u001b[0;34m\u001b[0m\u001b[0m\n\u001b[0m\u001b[1;32m      3\u001b[0m     \u001b[0;31m# data_dir=\"/home/satwik/Desktop/swaayatt_satwik/gan_test_Code/data /mnist\"\u001b[0m\u001b[0;34m\u001b[0m\u001b[0;34m\u001b[0m\u001b[0m\n\u001b[1;32m      4\u001b[0m \u001b[0;34m\u001b[0m\u001b[0m\n\u001b[1;32m      5\u001b[0m     \u001b[0mfd\u001b[0m \u001b[0;34m=\u001b[0m \u001b[0mopen\u001b[0m\u001b[0;34m(\u001b[0m\u001b[0mos\u001b[0m\u001b[0;34m.\u001b[0m\u001b[0mpath\u001b[0m\u001b[0;34m.\u001b[0m\u001b[0mjoin\u001b[0m\u001b[0;34m(\u001b[0m\u001b[0mdata_dir\u001b[0m\u001b[0;34m,\u001b[0m\u001b[0;34m'train-images-idx3-ubyte'\u001b[0m\u001b[0;34m)\u001b[0m\u001b[0;34m)\u001b[0m\u001b[0;34m\u001b[0m\u001b[0m\n",
      "\u001b[0;31mNameError\u001b[0m: name 'os' is not defined"
     ]
    }
   ],
   "source": [
    "trax,tray=load_mnist()\n",
    "trax=trax[500:]\n",
    "tray=tray[500:]\n",
    "ae = autoencoder(corruption=False)\n",
    "optimizer = tf.train.AdamOptimizer(learning_rate).minimize(ae['cost'])\n",
    "\n",
    "sess = tf.Session()\n",
    "\n",
    "sess.run(tf.global_variables_initializer())\n",
    "\n",
    "for epoch_i in range(n_epochs):\n",
    "\n",
    "    for batch_i in range(trax.shape[0] // batch_size):\n",
    "\n",
    "        batch_xs = trax[batch_i*(batch_size):(batch_i+1)*(batch_size)]\n",
    "        \n",
    "        train = np.asarray((batch_xs))\n",
    "\n",
    "        sess.run(optimizer, feed_dict={ae['x']: train})\n",
    "    \n",
    "    print(epoch_i, sess.run(ae['cost'], feed_dict={ae['x']: train}))"
   ]
  },
  {
   "cell_type": "code",
   "execution_count": null,
   "metadata": {},
   "outputs": [],
   "source": []
  }
 ],
 "metadata": {
  "kernelspec": {
   "display_name": "Python 3",
   "language": "python",
   "name": "python3"
  },
  "language_info": {
   "codemirror_mode": {
    "name": "ipython",
    "version": 3
   },
   "file_extension": ".py",
   "mimetype": "text/x-python",
   "name": "python",
   "nbconvert_exporter": "python",
   "pygments_lexer": "ipython3",
   "version": "3.6.4"
  }
 },
 "nbformat": 4,
 "nbformat_minor": 2
}
