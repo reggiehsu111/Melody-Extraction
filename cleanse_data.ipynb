{
 "cells": [
  {
   "cell_type": "code",
   "execution_count": 2,
   "metadata": {},
   "outputs": [
    {
     "name": "stderr",
     "output_type": "stream",
     "text": [
      "/Users/hsureggie/coding/python/lib/python3.6/site-packages/h5py/__init__.py:36: FutureWarning: Conversion of the second argument of issubdtype from `float` to `np.floating` is deprecated. In future, it will be treated as `np.float64 == np.dtype(float).type`.\n",
      "  from ._conv import register_converters as _register_converters\n",
      "Using TensorFlow backend.\n"
     ]
    }
   ],
   "source": [
    "import keras\n",
    "from keras.models import Sequential\n",
    "from keras.layers import Conv2D\n",
    "from keras.layers import MaxPooling2D\n",
    "from keras.layers import Flatten\n",
    "from keras.layers import Dense\n",
    "from keras.models import model_from_json\n",
    "import matplotlib.pyplot as plt\n",
    "from keras.callbacks import TensorBoard\n",
    "from time import time\n",
    "import os\n",
    "import pypianoroll as pr\n",
    "import numpy as np\n",
    "import random"
   ]
  },
  {
   "cell_type": "code",
   "execution_count": 3,
   "metadata": {},
   "outputs": [],
   "source": [
    "import tensorflow as tf\n",
    "\n",
    "gpu_options = tf.GPUOptions(per_process_gpu_memory_fraction=0.3)\n",
    "sess = tf.Session(config=tf.ConfigProto(gpu_options=gpu_options))\n",
    "\n",
    "tf.keras.backend.set_session(sess)\n"
   ]
  },
  {
   "cell_type": "code",
   "execution_count": 4,
   "metadata": {},
   "outputs": [
    {
     "name": "stdout",
     "output_type": "stream",
     "text": [
      "Loaded model from disk\n"
     ]
    }
   ],
   "source": [
    "def load_model():\n",
    "    # load JSON and create model\n",
    "    json_file = open('model.json', 'r')\n",
    "    loaded_model_json = json_file.read()\n",
    "    json_file.close()\n",
    "    loaded_model = model_from_json(loaded_model_json)\n",
    "    # load weights into new model\n",
    "    loaded_model.load_weights(\"model.h5\")\n",
    "    print(\"Loaded model from disk\")\n",
    "    loaded_model.compile(loss=keras.losses.binary_crossentropy,\n",
    "                  optimizer=keras.optimizers.Adadelta(),\n",
    "                  metrics=['accuracy'])\n",
    "    return loaded_model\n",
    "loaded_model = load_model()"
   ]
  },
  {
   "cell_type": "code",
   "execution_count": 17,
   "metadata": {},
   "outputs": [],
   "source": [
    "#handle the prediction returned from the model\n",
    "def handle_prediction(prediction,song,random,length):\n",
    "    label = []\n",
    "    if random != 0:\n",
    "        prediction = prediction.reshape(int(prediction.shape[0]/random),random,1)\n",
    "    elif random == 0:\n",
    "        prediction = prediction.reshape(int(prediction.shape[0]/length),length,1)\n",
    "    avg_score = np.average(prediction,axis=1)>0.5\n",
    "    for x in range(len(song.tracks)):\n",
    "        if avg_score[x]:\n",
    "            song.tracks[x].name = \"Melody\"\n",
    "    return song"
   ]
  },
  {
   "cell_type": "code",
   "execution_count": 24,
   "metadata": {},
   "outputs": [],
   "source": [
    "def predict_song(root,name,loaded_model,random):\n",
    "    img_rows = 128\n",
    "    img_cols = 500\n",
    "    store = []\n",
    "    temp = []\n",
    "    full_name = os.path.join(root,name)\n",
    "    if full_name.endswith('.npz'):\n",
    "        temp_song = pr.load(full_name)\n",
    "        #iterate over tracks and randomly sample 3 subarrays in a track if random is set\n",
    "        for track in temp_song.tracks:\n",
    "            if random != 0:\n",
    "                random_ints = random.sample(range(0,track.pianoroll.shape[0]-500),random)\n",
    "                for x in range(0,random):\n",
    "                    temp_array = np.array(track.pianoroll[random_ints[x]:random_ints[x]+500,:])\n",
    "                    temp.append((temp_array).swapaxes(0,1))\n",
    "            elif random == 0:\n",
    "                for x in range(0,int(track.pianoroll.shape[0]/500)):\n",
    "                    temp_array = np.array(track.pianoroll[500*x:500*(x+1),:])\n",
    "                    temp.append((temp_array).swapaxes(0,1))\n",
    "                length = len(temp)\n",
    "            temp = np.array(temp)\n",
    "            temp = temp.reshape(temp.shape[0],img_rows,img_cols,1)\n",
    "            store.extend(temp)\n",
    "            temp = []\n",
    "        store = np.array(store)\n",
    "        prediction = loaded_model.predict(store,verbose=1)\n",
    "        after_song = handle_prediction(prediction,temp_song,random,length=length)\n",
    "    return prediction,after_song"
   ]
  },
  {
   "cell_type": "code",
   "execution_count": 23,
   "metadata": {},
   "outputs": [
    {
     "name": "stdout",
     "output_type": "stream",
     "text": [
      "./lpd_cleansed/R/R/U/TRRRUTV12903CEA11B/a8a167f3ab4d81560b65095e7565a837.npz\n",
      "(17, 128, 500, 1)\n",
      "(17, 128, 500, 1)\n",
      "(17, 128, 500, 1)\n",
      "(17, 128, 500, 1)\n",
      "(17, 128, 500, 1)\n",
      "(17, 128, 500, 1)\n",
      "(17, 128, 500, 1)\n",
      "(17, 128, 500, 1)\n",
      "(17, 128, 500, 1)\n",
      "153/153 [==============================] - 17s 110ms/step\n",
      "./labeled/R/R/U/TRRRUTV12903CEA11B/a8a167f3ab4d81560b65095e7565a837.npz\n",
      "1 songs cleansed\n"
     ]
    }
   ],
   "source": [
    "files_dealt = 0\n",
    "for root,dirs,files in os.walk(\"./lpd_cleansed/\", topdown=False):\n",
    "    for name in files:\n",
    "        full_name = os.path.join(root,name)\n",
    "        print(full_name)\n",
    "        try:\n",
    "            prediction, labeled_song = predict_song(root,name,loaded_model,random = 0)\n",
    "            path = \"./labeled_1/\"+\"/\".join(full_name.split('/')[2:])\n",
    "            print(path)\n",
    "            directory = \"/\".join(path.split('/')[:-1])\n",
    "            if not os.path.exists(directory):\n",
    "                os.makedirs(directory)\n",
    "            labeled_song.save(path)\n",
    "            print(str(files_dealt+1)+\" songs cleansed\")\n",
    "        except Exception as error:\n",
    "            print(files_dealt+1)\n",
    "            print(\"Stucked file: \"+ full_name)\n",
    "            raise(error)\n",
    "            pass\n",
    "        files_dealt+=1\n"
   ]
  },
  {
   "cell_type": "code",
   "execution_count": null,
   "metadata": {},
   "outputs": [],
   "source": []
  }
 ],
 "metadata": {
  "kernelspec": {
   "display_name": "Python 3",
   "language": "python",
   "name": "python3"
  },
  "language_info": {
   "codemirror_mode": {
    "name": "ipython",
    "version": 3
   },
   "file_extension": ".py",
   "mimetype": "text/x-python",
   "name": "python",
   "nbconvert_exporter": "python",
   "pygments_lexer": "ipython3",
   "version": "3.6.4"
  }
 },
 "nbformat": 4,
 "nbformat_minor": 2
}
